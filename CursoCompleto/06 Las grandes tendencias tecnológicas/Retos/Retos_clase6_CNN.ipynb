{
 "cells": [
  {
   "cell_type": "markdown",
   "metadata": {
    "colab_type": "text",
    "id": "k5uIGRCcDndn"
   },
   "source": [
    "# Reto 1"
   ]
  },
  {
   "cell_type": "code",
   "execution_count": 18,
   "metadata": {
    "colab": {},
    "colab_type": "code",
    "id": "Sb1iKkmPDgrN"
   },
   "outputs": [],
   "source": [
    "# Se importa la clase MNIST\n",
    "\n",
    "from tensorflow.keras.datasets import mnist \n",
    "#tf.__version__"
   ]
  },
  {
   "cell_type": "code",
   "execution_count": 19,
   "metadata": {
    "colab": {},
    "colab_type": "code",
    "id": "Aum9QMlwDgrX"
   },
   "outputs": [],
   "source": [
    "# Se descargan los datos y se guardan en variables\n",
    "\n",
    "(X_train, y_train), (X_test, y_test) = mnist.load_data()"
   ]
  },
  {
   "cell_type": "code",
   "execution_count": 20,
   "metadata": {
    "colab": {},
    "colab_type": "code",
    "id": "lsfGrD_hDgrh"
   },
   "outputs": [
    {
     "name": "stdout",
     "output_type": "stream",
     "text": [
      "Las dimensiones de los datos de entrenamiento son (60000, 28, 28)\n",
      "Las dimensiones de los etiquetas de entrenamiento son (60000,)\n",
      "Las dimensiones de los datos de prueba son (10000, 28, 28)\n",
      "Las dimensiones de los etiquetas de prueba son (10000,)\n"
     ]
    }
   ],
   "source": [
    "print(f'Las dimensiones de los datos de entrenamiento son {X_train.shape}')\n",
    "print(f'Las dimensiones de los etiquetas de entrenamiento son {y_train.shape}')\n",
    "print(f'Las dimensiones de los datos de prueba son {X_test.shape}')\n",
    "print(f'Las dimensiones de los etiquetas de prueba son {y_test.shape}') "
   ]
  },
  {
   "cell_type": "code",
   "execution_count": 21,
   "metadata": {
    "colab": {},
    "colab_type": "code",
    "id": "eK30ayWcDgsc"
   },
   "outputs": [
    {
     "data": {
      "image/png": "[encoded data removed]",
      "text/plain": [
       "<Figure size 720x432 with 24 Axes>"
      ]
     },
     "metadata": {},
     "output_type": "display_data"
    }
   ],
   "source": [
    "# Se grafican alguna de las imagenes del dataset de manera aleatoria \n",
    "\n",
    "%matplotlib inline\n",
    "import matplotlib.pyplot as plt\n",
    "import numpy as np\n",
    "\n",
    "index = np.random.choice(np.arange(len(X_train)), 24, replace=False)\n",
    "figure, axes = plt.subplots(nrows=4, ncols=6, figsize=(10, 6))\n",
    "\n",
    "for item in zip(axes.ravel(), X_train, y_train):\n",
    "    axes, image, target = item\n",
    "    axes.imshow(image, cmap=plt.cm.gray_r)\n",
    "    axes.set_xticks([])  \n",
    "    axes.set_yticks([]) \n",
    "    axes.set_title(target)\n",
    "plt.tight_layout()"
   ]
  },
  {
   "cell_type": "markdown",
   "metadata": {
    "colab_type": "text",
    "id": "WnHHUUkxEwUK"
   },
   "source": [
    "# Reto 2"
   ]
  },
  {
   "cell_type": "code",
   "execution_count": 22,
   "metadata": {
    "colab": {},
    "colab_type": "code",
    "id": "1IjRCq6tDgsk"
   },
   "outputs": [
    {
     "name": "stdout",
     "output_type": "stream",
     "text": [
      "Las dimensiones del conjunto de entrenamiento es (60000, 28, 28, 1)\n"
     ]
    }
   ],
   "source": [
    "# Se modifica las dimensiones del dato para coincidir con el formato\n",
    "# (Datos, ancho, largo, canales)\n",
    "\n",
    "X_train = X_train.reshape((60000, 28, 28, 1)) \n",
    "X_test = X_test.reshape((10000, 28, 28, 1))\n",
    "print(f'Las dimensiones del conjunto de entrenamiento es {X_train.shape}')"
   ]
  },
  {
   "cell_type": "code",
   "execution_count": 23,
   "metadata": {
    "colab": {},
    "colab_type": "code",
    "id": "YBSdFD8NDgsv"
   },
   "outputs": [],
   "source": [
    "# Se normalizan los datos. Los algortimos de deep learning presentan \n",
    "# un mejor rendimiento si trabajan con datos entre 0 y 1\n",
    "\n",
    "X_train = X_train.astype('float32') / 255\n",
    "X_test = X_test.astype('float32') / 255"
   ]
  },
  {
   "cell_type": "code",
   "execution_count": 24,
   "metadata": {
    "colab": {},
    "colab_type": "code",
    "id": "kEPQLd33DgtD"
   },
   "outputs": [],
   "source": [
    "# Se import el módulo utils para la codificacion One-Hot de las etiquetas \n",
    "\n",
    "from tensorflow.keras.utils import to_categorical\n",
    "\n",
    "y_train = to_categorical(y_train)\n",
    "y_test = to_categorical(y_test)"
   ]
  },
  {
   "cell_type": "code",
   "execution_count": 25,
   "metadata": {
    "colab": {},
    "colab_type": "code",
    "id": "Gl61iqufSM_j"
   },
   "outputs": [
    {
     "name": "stdout",
     "output_type": "stream",
     "text": [
      "Las dimensiones de las etiquetas son (60000, 10)\n",
      "Las primeras 5 etiquetas son: \n",
      "[0. 0. 0. 0. 0. 1. 0. 0. 0. 0.]\n",
      "\n",
      "[1. 0. 0. 0. 0. 0. 0. 0. 0. 0.]\n",
      "\n",
      "[0. 0. 0. 0. 1. 0. 0. 0. 0. 0.]\n",
      "\n",
      "[0. 1. 0. 0. 0. 0. 0. 0. 0. 0.]\n",
      "\n",
      "[0. 0. 0. 0. 0. 0. 0. 0. 0. 1.]\n",
      "\n"
     ]
    }
   ],
   "source": [
    "print(f'Las dimensiones de las etiquetas son {y_train.shape}')\n",
    "print(f'Las primeras 5 etiquetas son: ')\n",
    "for i in range(5):\n",
    "  print(f'{y_train[i]}\\n')"
   ]
  },
  {
   "cell_type": "markdown",
   "metadata": {
    "colab_type": "text",
    "id": "-cZQRAplXAv1"
   },
   "source": [
    "# Reto 3"
   ]
  },
  {
   "cell_type": "code",
   "execution_count": 26,
   "metadata": {
    "colab": {},
    "colab_type": "code",
    "id": "xXNr573LDgtf"
   },
   "outputs": [],
   "source": [
    "# Se importa la clase Sequential\n",
    "from tensorflow.keras.models import Sequential  "
   ]
  },
  {
   "cell_type": "code",
   "execution_count": 27,
   "metadata": {
    "colab": {},
    "colab_type": "code",
    "id": "o394i9neDgti"
   },
   "outputs": [],
   "source": [
    "# Instanciación de un objeto que sera la red neuronal\n",
    "cnn = Sequential()"
   ]
  },
  {
   "cell_type": "code",
   "execution_count": 28,
   "metadata": {
    "colab": {},
    "colab_type": "code",
    "id": "ENU26BqEDgtm"
   },
   "outputs": [],
   "source": [
    "# Se importan las clases que definen las capas de la red\n",
    "from tensorflow.keras.layers import Conv2D, MaxPooling2D, Flatten, Dense"
   ]
  },
  {
   "cell_type": "code",
   "execution_count": 29,
   "metadata": {
    "colab": {},
    "colab_type": "code",
    "id": "Or18Ka19Dgtr"
   },
   "outputs": [],
   "source": [
    "# Se añaden capas a la red neuronal convolucional\n",
    "cnn.add(Conv2D(filters=64, kernel_size=(3, 3), activation='relu', \n",
    "               input_shape=(28, 28, 1)))\n",
    "cnn.add(MaxPooling2D(pool_size=(2, 2)))\n",
    "cnn.add(Conv2D(filters=128, kernel_size=(3, 3), activation='relu'))\n",
    "cnn.add(MaxPooling2D(pool_size=(2, 2)))\n",
    "cnn.add(Flatten())\n",
    "cnn.add(Dense(units=128, activation='relu'))\n",
    "cnn.add(Dense(units=10, activation='softmax'))"
   ]
  },
  {
   "cell_type": "code",
   "execution_count": 31,
   "metadata": {
    "colab": {},
    "colab_type": "code",
    "id": "OVC-7vhdDgtv"
   },
   "outputs": [
    {
     "name": "stdout",
     "output_type": "stream",
     "text": [
      "Model: \"sequential\"\n",
      "_________________________________________________________________\n",
      "Layer (type)                 Output Shape              Param #   \n",
      "=================================================================\n",
      "conv2d (Conv2D)              (None, 26, 26, 64)        640       \n",
      "_________________________________________________________________\n",
      "max_pooling2d (MaxPooling2D) (None, 13, 13, 64)        0         \n",
      "_________________________________________________________________\n",
      "conv2d_1 (Conv2D)            (None, 11, 11, 128)       73856     \n",
      "_________________________________________________________________\n",
      "max_pooling2d_1 (MaxPooling2 (None, 5, 5, 128)         0         \n",
      "_________________________________________________________________\n",
      "flatten (Flatten)            (None, 3200)              0         \n",
      "_________________________________________________________________\n",
      "dense (Dense)                (None, 128)               409728    \n",
      "_________________________________________________________________\n",
      "dense_1 (Dense)              (None, 10)                1290      \n",
      "=================================================================\n",
      "Total params: 485,514\n",
      "Trainable params: 485,514\n",
      "Non-trainable params: 0\n",
      "_________________________________________________________________\n"
     ]
    }
   ],
   "source": [
    "# Se presenta la estructura final de la red\n",
    "cnn.summary()"
   ]
  },
  {
   "cell_type": "code",
   "execution_count": 32,
   "metadata": {
    "colab": {},
    "colab_type": "code",
    "id": "Pw3ygqG_DguO"
   },
   "outputs": [],
   "source": [
    "# Se definen el optimizador, la función de costo y la metrica de la red\n",
    "cnn.compile(optimizer='adam',\n",
    "            loss='categorical_crossentropy',\n",
    "            metrics=['accuracy'])"
   ]
  },
  {
   "cell_type": "code",
   "execution_count": 33,
   "metadata": {
    "colab": {},
    "colab_type": "code",
    "id": "igCTsqF2DguS"
   },
   "outputs": [
    {
     "name": "stdout",
     "output_type": "stream",
     "text": [
      "Epoch 1/5\n",
      "844/844 [==============================] - 77s 91ms/step - loss: 0.1478 - accuracy: 0.9537 - val_loss: 0.0463 - val_accuracy: 0.9868\n",
      "Epoch 2/5\n",
      "844/844 [==============================] - 75s 89ms/step - loss: 0.0433 - accuracy: 0.9869 - val_loss: 0.0561 - val_accuracy: 0.9833\n",
      "Epoch 3/5\n",
      "844/844 [==============================] - 73s 87ms/step - loss: 0.0299 - accuracy: 0.9907 - val_loss: 0.0330 - val_accuracy: 0.9897\n",
      "Epoch 4/5\n",
      "844/844 [==============================] - 74s 88ms/step - loss: 0.0219 - accuracy: 0.9929 - val_loss: 0.0338 - val_accuracy: 0.9898\n",
      "Epoch 5/5\n",
      "844/844 [==============================] - 73s 87ms/step - loss: 0.0170 - accuracy: 0.9945 - val_loss: 0.0362 - val_accuracy: 0.9897\n"
     ]
    },
    {
     "data": {
      "text/plain": [
       "<tensorflow.python.keras.callbacks.History at 0x1a98206e048>"
      ]
     },
     "execution_count": 33,
     "metadata": {},
     "output_type": "execute_result"
    }
   ],
   "source": [
    "# Se entrena la red \n",
    "cnn.fit(X_train, y_train, epochs=5, batch_size=64, validation_split=0.1)"
   ]
  },
  {
   "cell_type": "markdown",
   "metadata": {
    "colab_type": "text",
    "id": "MS3fFXj_aE3-"
   },
   "source": [
    "# Reto 4"
   ]
  },
  {
   "cell_type": "code",
   "execution_count": 34,
   "metadata": {
    "colab": {},
    "colab_type": "code",
    "id": "bo9irymCDguV"
   },
   "outputs": [
    {
     "name": "stdout",
     "output_type": "stream",
     "text": [
      "313/313 [==============================] - 6s 20ms/step - loss: 0.0349 - accuracy: 0.9889\n",
      "Función de pérdida: 0.034852735698223114  Exactitud: 0.9889000058174133\n"
     ]
    }
   ],
   "source": [
    "loss, accuracy = cnn.evaluate(X_test, y_test)\n",
    "print(f'Función de pérdida: {loss}  Exactitud: {accuracy}')"
   ]
  },
  {
   "cell_type": "code",
   "execution_count": 35,
   "metadata": {
    "colab": {},
    "colab_type": "code",
    "id": "5r-8-CQ4Dgue"
   },
   "outputs": [],
   "source": [
    "# Predicciónes de la red neuronal para todos los datos de prueba\n",
    "predictions = cnn.predict(X_test)"
   ]
  },
  {
   "cell_type": "code",
   "execution_count": 45,
   "metadata": {
    "colab": {},
    "colab_type": "code",
    "id": "uQ1BRGWsDgug"
   },
   "outputs": [
    {
     "name": "stdout",
     "output_type": "stream",
     "text": [
      "0: 0.0000011806%\n",
      "1: 0.0000000334%\n",
      "2: 0.0000218288%\n",
      "3: 0.0001067969%\n",
      "4: 0.0000000065%\n",
      "5: 0.0000003448%\n",
      "6: 0.0000000000%\n",
      "7: 99.9998569489%\n",
      "8: 0.0000000562%\n",
      "9: 0.0000069583%\n"
     ]
    }
   ],
   "source": [
    "# Etiqueta del primer dato en el conjunto de prueba\n",
    "y_test[0]\n",
    "\n",
    "# Predicciones de la red neuronal convolucional del primer dato\n",
    "for index, probability in enumerate(predictions[0]):\n",
    "    print(f'{index}: {probability:.10%}')"
   ]
  },
  {
   "cell_type": "code",
   "execution_count": 37,
   "metadata": {
    "colab": {},
    "colab_type": "code",
    "id": "i-xrhhGfDgum"
   },
   "outputs": [],
   "source": [
    "# Se guardan en un arreglo las imagenes que no se \n",
    "# predijeron de forma correcta y la imagenes\n",
    "# se les aplica un reshape()\n",
    "\n",
    "images = X_test.reshape((10000, 28, 28))\n",
    "incorrect_predictions = []\n",
    "\n",
    "for i, (p, e) in enumerate(zip(predictions, y_test)):\n",
    "    predicted, expected = np.argmax(p), np.argmax(e)\n",
    "    \n",
    "    if predicted != expected:\n",
    "        incorrect_predictions.append((i, images[i], \n",
    "                                      predicted, expected))"
   ]
  },
  {
   "cell_type": "code",
   "execution_count": 38,
   "metadata": {
    "colab": {},
    "colab_type": "code",
    "id": "OmKdaw6WDgut"
   },
   "outputs": [
    {
     "data": {
      "image/png": "[encoded data removed]",
      "text/plain": [
       "<Figure size 648x432 with 24 Axes>"
      ]
     },
     "metadata": {},
     "output_type": "display_data"
    }
   ],
   "source": [
    "# Se grafican aquellas predicciones incorrectas\n",
    "# con su correspondinte valor esperado\n",
    "figure, axes = plt.subplots(nrows=4, ncols=6, figsize=(9, 6))\n",
    "\n",
    "for axes, item in zip(axes.ravel(), incorrect_predictions):\n",
    "    index, image, predicted, expected = item\n",
    "    axes.imshow(image, cmap=plt.cm.gray_r)\n",
    "    axes.set_xticks([])  \n",
    "    axes.set_yticks([])  \n",
    "    axes.set_title(f'index: {index}\\np: {predicted}; e: {expected}')\n",
    "plt.tight_layout()"
   ]
  },
  {
   "cell_type": "code",
   "execution_count": 39,
   "metadata": {
    "colab": {},
    "colab_type": "code",
    "id": "FUbbRNi8Dguv"
   },
   "outputs": [],
   "source": [
    "# Función para mostrar las salidas de probabilidad \n",
    "# para cada una de las categorias \n",
    "def display_probabilities(prediction):\n",
    "    for index, probability in enumerate(prediction):\n",
    "        print(f'{index}: {probability:.10%}')"
   ]
  },
  {
   "cell_type": "code",
   "execution_count": 40,
   "metadata": {
    "colab": {},
    "colab_type": "code",
    "id": "tRKu-O-2Dgu4"
   },
   "outputs": [
    {
     "name": "stdout",
     "output_type": "stream",
     "text": [
      "0: 0.0002375592%\n",
      "1: 57.2032570839%\n",
      "2: 4.3458383530%\n",
      "3: 0.0148863634%\n",
      "4: 0.0013649341%\n",
      "5: 0.0001899520%\n",
      "6: 0.0000007232%\n",
      "7: 38.4318739176%\n",
      "8: 0.0003426651%\n",
      "9: 0.0020164724%\n"
     ]
    }
   ],
   "source": [
    "display_probabilities(predictions[659])"
   ]
  },
  {
   "cell_type": "code",
   "execution_count": 41,
   "metadata": {
    "colab": {},
    "colab_type": "code",
    "id": "MhL6yEaPDgu7"
   },
   "outputs": [],
   "source": [
    "# Se guarda el modelo generado\n",
    "cnn.save('mnist_cnn.h5') "
   ]
  }
 ],
 "metadata": {
  "accelerator": "TPU",
  "colab": {
   "collapsed_sections": [],
   "name": "Retos_clase6_CNN.ipynb",
   "provenance": []
  },
  "kernelspec": {
   "display_name": "Python 3",
   "language": "python",
   "name": "python3"
  },
  "language_info": {
   "codemirror_mode": {
    "name": "ipython",
    "version": 3
   },
   "file_extension": ".py",
   "mimetype": "text/x-python",
   "name": "python",
   "nbconvert_exporter": "python",
   "pygments_lexer": "ipython3",
   "version": "3.6.10"
  }
 },
 "nbformat": 4,
 "nbformat_minor": 1
}
