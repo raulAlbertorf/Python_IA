{
 "cells": [
  {
   "cell_type": "markdown",
   "metadata": {
    "colab_type": "text",
    "id": "hZsC3W15xVwK"
   },
   "source": [
    "# Reto 11"
   ]
  },
  {
   "cell_type": "code",
   "execution_count": 0,
   "metadata": {
    "colab": {},
    "colab_type": "code",
    "id": "umNoyB8n0H3z"
   },
   "outputs": [],
   "source": [
    "import dweepye\n",
    "import sys\n",
    "import time\n",
    "import random"
   ]
  },
  {
   "cell_type": "code",
   "execution_count": 0,
   "metadata": {
    "colab": {},
    "colab_type": "code",
    "id": "LfwZd0mf0t6T"
   },
   "outputs": [],
   "source": [
    "MIN_CELSIUS_TEMP = -25  \n",
    "MAX_CELSIUS_TEMP = 45 \n",
    "MAX_TEMP_CHANGE = 5\n",
    "\n",
    "# numero de mensajes a simular\n",
    "NUMBER_OF_MESSAGES = dweeter_for()\n",
    "MESSAGE_DELAY = 0.1\n",
    "\n",
    "dweeter = 'simulador-temperatura'  # Nombre único\n",
    "thermostat = {'Ubicación': 'Polanco, CDMX, MX',\n",
    "              'Temperatura': 20, \n",
    "              'AlarmaTempBaja': False,\n",
    "              'AlarmaTempAlta': False}\n",
    "\n",
    "print('Iniciando simulacicón de Temperatura')"
   ]
  },
  {
   "cell_type": "code",
   "execution_count": 0,
   "metadata": {
    "colab": {
     "base_uri": "https://localhost:8080/",
     "height": 123
    },
    "colab_type": "code",
    "executionInfo": {
     "elapsed": 36770,
     "status": "ok",
     "timestamp": 1584172041048,
     "user": {
      "displayName": "Jesús Vázquez",
      "photoUrl": "https://lh3.googleusercontent.com/a-/AOh14Ggun6IgIEhfrtKERZUGhdLyuRUPhxfBHWVsEmmNuA=s64",
      "userId": "07385382147841583526"
     },
     "user_tz": 360
    },
    "id": "cPzSLwxl1eKg",
    "outputId": "4a7477b4-060c-48b5-ee36-b00da0051f59"
   },
   "outputs": [
    {
     "name": "stdout",
     "output_type": "stream",
     "text": [
      "Mensajes enviados: 1\n",
      "Mensajes enviados: 2\n",
      "Mensajes enviados: 3\n",
      "Mensajes enviados: 4\n",
      "Mensajes enviados: 5\n",
      "Simulación de temperatura terminada\n"
     ]
    }
   ],
   "source": [
    "for message in range(NUMBER_OF_MESSAGES):\n",
    "    thermostat['Temperatura'] += random.randrange(\n",
    "        -MAX_TEMP_CHANGE, MAX_TEMP_CHANGE + 1)\n",
    "    \n",
    "    if thermostat['Temperatura'] < MIN_CELSIUS_TEMP:\n",
    "        thermostat['Temperatura'] = MIN_CELSIUS_TEMP\n",
    "    \n",
    "    if thermostat['Temperatura'] > MAX_CELSIUS_TEMP:\n",
    "        thermostat['Temperatura'] = MAX_CELSIUS_TEMP\n",
    "    \n",
    "    if thermostat['Temperatura'] < ____:\n",
    "        thermostat['AlarmaTempBaja'] = True\n",
    "    else:\n",
    "        thermostat['AlarmaTempBaja'] = False\n",
    "\n",
    "    if thermostat['Temperatura'] > ____:\n",
    "        thermostat['AlarmaTempAlta'] = True\n",
    "    else:\n",
    "        thermostat['AlarmaTempAlta'] = False\n",
    "\n",
    "    print(f'Mensajes enviados: {message + 1}\\n', end='')\n",
    "    dweepy.____(dweeter, thermostat)\n",
    "    time.sleep(MESSAGE_DELAY)\n",
    "\n",
    "print('Simulación de temperatura terminada')"
   ]
  }
 ],
 "metadata": {
  "colab": {
   "collapsed_sections": [],
   "name": "Retos_clase6_IoT.ipynb",
   "provenance": []
  },
  "kernelspec": {
   "display_name": "Python 3",
   "language": "python",
   "name": "python3"
  },
  "language_info": {
   "codemirror_mode": {
    "name": "ipython",
    "version": 3
   },
   "file_extension": ".py",
   "mimetype": "text/x-python",
   "name": "python",
   "nbconvert_exporter": "python",
   "pygments_lexer": "ipython3",
   "version": "3.6.10"
  }
 },
 "nbformat": 4,
 "nbformat_minor": 1
}
