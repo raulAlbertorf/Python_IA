{
 "cells": [
  {
   "cell_type": "markdown",
   "metadata": {
    "colab_type": "text",
    "id": "jig8fWp7gyYt"
   },
   "source": [
    "# Reto 5"
   ]
  },
  {
   "cell_type": "code",
   "execution_count": 0,
   "metadata": {
    "colab": {
     "base_uri": "https://localhost:8080/",
     "height": 64
    },
    "colab_type": "code",
    "executionInfo": {
     "elapsed": 1991,
     "status": "ok",
     "timestamp": 1584118400922,
     "user": {
      "displayName": "Jesús Vázquez",
      "photoUrl": "https://lh3.googleusercontent.com/a-/AOh14Ggun6IgIEhfrtKERZUGhdLyuRUPhxfBHWVsEmmNuA=s64",
      "userId": "07385382147841583526"
     },
     "user_tz": 360
    },
    "id": "HYYqB2k2ezeA",
    "outputId": "2090b39f-e309-4acb-c04a-42c1c2f73485"
   },
   "outputs": [
    {
     "data": {
      "text/html": [
       "<p style=\"color: red;\">\n",
       "The default version of TensorFlow in Colab will soon switch to TensorFlow 2.x.<br>\n",
       "We recommend you <a href=\"https://www.tensorflow.org/guide/migrate\" target=\"_blank\">upgrade</a> now \n",
       "or ensure your notebook will continue to use TensorFlow 1.x via the <code>%tensorflow_version 1.x</code> magic:\n",
       "<a href=\"https://colab.research.google.com/notebooks/tensorflow_version.ipynb\" target=\"_blank\">more info</a>.</p>\n"
      ],
      "text/plain": [
       "<IPython.core.display.HTML object>"
      ]
     },
     "metadata": {
      "tags": []
     },
     "output_type": "display_data"
    }
   ],
   "source": [
    "# Se carga el dataset de imdb\n",
    "from ____ import ____"
   ]
  },
  {
   "cell_type": "code",
   "execution_count": 0,
   "metadata": {
    "colab": {
     "base_uri": "https://localhost:8080/",
     "height": 52
    },
    "colab_type": "code",
    "executionInfo": {
     "elapsed": 7380,
     "status": "ok",
     "timestamp": 1584118406317,
     "user": {
      "displayName": "Jesús Vázquez",
      "photoUrl": "https://lh3.googleusercontent.com/a-/AOh14Ggun6IgIEhfrtKERZUGhdLyuRUPhxfBHWVsEmmNuA=s64",
      "userId": "07385382147841583526"
     },
     "user_tz": 360
    },
    "id": "psE-ftIteze7",
    "outputId": "55e8eb59-07a1-47fd-fd4d-90e022565300"
   },
   "outputs": [
    {
     "name": "stdout",
     "output_type": "stream",
     "text": [
      "Downloading data from https://storage.googleapis.com/tensorflow/tf-keras-datasets/imdb.npz\n",
      "17465344/17464789 [==============================] - 0s 0us/step\n"
     ]
    }
   ],
   "source": [
    "number_of_words = 10000\n",
    "(X_train, y_train), (X_test, y_test) = imdb.____(num_words=number_of_words)"
   ]
  },
  {
   "cell_type": "code",
   "execution_count": 0,
   "metadata": {
    "colab": {
     "base_uri": "https://localhost:8080/",
     "height": 88
    },
    "colab_type": "code",
    "executionInfo": {
     "elapsed": 7075,
     "status": "ok",
     "timestamp": 1584118406318,
     "user": {
      "displayName": "Jesús Vázquez",
      "photoUrl": "https://lh3.googleusercontent.com/a-/AOh14Ggun6IgIEhfrtKERZUGhdLyuRUPhxfBHWVsEmmNuA=s64",
      "userId": "07385382147841583526"
     },
     "user_tz": 360
    },
    "id": "3KoehNKiezgY",
    "outputId": "6e8759b0-1f62-40b5-e757-fa15eebbcc3e"
   },
   "outputs": [
    {
     "name": "stdout",
     "output_type": "stream",
     "text": [
      "Las dimensiones de los datos de entrenamiento son (25000,)\n",
      "Las dimensiones de los etiquetas de entrenamiento son (25000,)\n",
      "Las dimensiones de los datos de prueba son (25000,)\n",
      "Las dimensiones de los etiquetas de prueba son (25000,)\n"
     ]
    }
   ],
   "source": [
    "print(f'Las dimensiones de los datos de entrenamiento son {X_train.____}')\n",
    "print(f'Las dimensiones de los etiquetas de entrenamiento son {y_train.____}')\n",
    "print(f'Las dimensiones de los datos de prueba son {X_test.shape}')\n",
    "print(f'Las dimensiones de los etiquetas de prueba son {y_test.shape}') "
   ]
  },
  {
   "cell_type": "code",
   "execution_count": 0,
   "metadata": {
    "colab": {
     "base_uri": "https://localhost:8080/",
     "height": 55
    },
    "colab_type": "code",
    "executionInfo": {
     "elapsed": 6218,
     "status": "ok",
     "timestamp": 1584118406320,
     "user": {
      "displayName": "Jesús Vázquez",
      "photoUrl": "https://lh3.googleusercontent.com/a-/AOh14Ggun6IgIEhfrtKERZUGhdLyuRUPhxfBHWVsEmmNuA=s64",
      "userId": "07385382147841583526"
     },
     "user_tz": 360
    },
    "id": "iMRka_4jezhx",
    "outputId": "8c2dc973-f56f-4040-d9b8-14108a0285a2"
   },
   "outputs": [
    {
     "name": "stdout",
     "output_type": "stream",
     "text": [
      "[1, 13, 82, 260, 9819, 3103, 7, 2843, 102, 11, 4, 501, 1133, 14, 8, 30, 31, 7, 4, 249, 13, 28, 126, 110, 10, 10, 300, 13, 2, 11, 14, 251, 5, 559, 260, 8, 1260, 8, 61, 476, 15, 5421, 9, 24, 4, 78, 493, 82, 15, 8735, 1766, 1433, 40, 2, 9, 4650, 10, 10, 241, 4, 4494, 2, 3376, 1073, 136, 3887, 6, 7301, 7901, 975, 11, 63, 29, 6270, 15, 6286, 3163, 3640, 5, 372, 740, 23, 4, 1699, 107, 85, 4137, 82, 9056, 361, 4, 681, 595, 1453, 10, 10, 342, 4, 226, 20, 2256, 2, 7, 3781, 2118, 5, 2463, 15, 13, 197, 75, 17, 6, 2952, 71, 2606, 8, 28, 2, 752, 10, 10, 11, 32, 45, 43, 2625, 913, 1125, 60, 53, 913, 398, 5, 24, 290, 3121, 4, 58, 8, 650]\n"
     ]
    }
   ],
   "source": [
    "print(X_train[121])"
   ]
  },
  {
   "cell_type": "code",
   "execution_count": 0,
   "metadata": {
    "colab": {
     "base_uri": "https://localhost:8080/",
     "height": 70
    },
    "colab_type": "code",
    "executionInfo": {
     "elapsed": 5557,
     "status": "ok",
     "timestamp": 1584118406467,
     "user": {
      "displayName": "Jesús Vázquez",
      "photoUrl": "https://lh3.googleusercontent.com/a-/AOh14Ggun6IgIEhfrtKERZUGhdLyuRUPhxfBHWVsEmmNuA=s64",
      "userId": "07385382147841583526"
     },
     "user_tz": 360
    },
    "id": "kpGuDouaezh9",
    "outputId": "6df88ef1-a67e-4fce-ce13-37907119996c"
   },
   "outputs": [
    {
     "name": "stdout",
     "output_type": "stream",
     "text": [
      "Downloading data from https://storage.googleapis.com/tensorflow/tf-keras-datasets/imdb_word_index.json\n",
      "1646592/1641221 [==============================] - 0s 0us/step\n",
      "El indice de la palabra great es 84\n"
     ]
    }
   ],
   "source": [
    "word_to_index = imdb.____()\n",
    "palabra = 'great'\n",
    "print(f'El indice de la palabra {palabra} es {word_to_index[palabra]}')"
   ]
  },
  {
   "cell_type": "code",
   "execution_count": 0,
   "metadata": {
    "colab": {},
    "colab_type": "code",
    "id": "dyOy1cy0eziI"
   },
   "outputs": [],
   "source": [
    "index_to_word = \\\n",
    "    {index: word for (word, index) in word_to_index.items()}"
   ]
  },
  {
   "cell_type": "code",
   "execution_count": 0,
   "metadata": {
    "colab": {
     "base_uri": "https://localhost:8080/",
     "height": 72
    },
    "colab_type": "code",
    "executionInfo": {
     "elapsed": 3302,
     "status": "ok",
     "timestamp": 1584118406470,
     "user": {
      "displayName": "Jesús Vázquez",
      "photoUrl": "https://lh3.googleusercontent.com/a-/AOh14Ggun6IgIEhfrtKERZUGhdLyuRUPhxfBHWVsEmmNuA=s64",
      "userId": "07385382147841583526"
     },
     "user_tz": 360
    },
    "id": "L2wOockxeziN",
    "outputId": "11dfda02-9418-498a-8ea7-9f2c687289d7"
   },
   "outputs": [
    {
     "name": "stdout",
     "output_type": "stream",
     "text": [
      "['the', 'and', 'a', 'of', 'to', 'is', 'br', 'in', 'it', 'i', 'this', 'that', 'was', 'as', 'for', 'with', 'movie', 'but', 'film', 'on', 'not', 'you', 'are', 'his', 'have', 'he', 'be', 'one', 'all', 'at', 'by', 'an', 'they', 'who', 'so', 'from', 'like', 'her', 'or', 'just', 'about', \"it's\", 'out', 'has', 'if', 'some', 'there', 'what', 'good', 'more']\n"
     ]
    },
    {
     "data": {
      "text/plain": [
       "\"? i also having endured hundreds of children's movies in the past consider this to be one of the worst i have ever seen br br 1 i ? in this day and age having to explain to my children that russia is not the bad guys also that mocking russian names like ? is inappropriate br br 2 the grandfather ? birthday party scene contained a quasi sexist joke in which he implied that males drink beer and women talk on the phone two other flies also needlessly use the word crap twice br br 3 the whole movie largely ? of 1950's stereotypes and propaganda that i thought we as a nation were proud to have ? above br br in all it's just crude badly animated even more badly written and not worth wasting the time to view\""
      ]
     },
     "execution_count": 7,
     "metadata": {
      "tags": []
     },
     "output_type": "execute_result"
    }
   ],
   "source": [
    "print([index_to_word[i] for i in range(1, 51)])\n",
    "' '.join([index_to_word.get(i - 3, '?') for i in X_train[121]])"
   ]
  },
  {
   "cell_type": "markdown",
   "metadata": {
    "colab_type": "text",
    "id": "yJvsA8wu0Bqo"
   },
   "source": [
    "# Reto 6"
   ]
  },
  {
   "cell_type": "code",
   "execution_count": 0,
   "metadata": {
    "colab": {},
    "colab_type": "code",
    "id": "Lv8oEFwZezic"
   },
   "outputs": [],
   "source": [
    "words_per_review = ____  "
   ]
  },
  {
   "cell_type": "code",
   "execution_count": 0,
   "metadata": {
    "colab": {},
    "colab_type": "code",
    "id": "CXZ8uNk4ezii"
   },
   "outputs": [],
   "source": [
    "from ____ import ____"
   ]
  },
  {
   "cell_type": "code",
   "execution_count": 0,
   "metadata": {
    "colab": {
     "base_uri": "https://localhost:8080/",
     "height": 70
    },
    "colab_type": "code",
    "executionInfo": {
     "elapsed": 1491,
     "status": "ok",
     "timestamp": 1584119144433,
     "user": {
      "displayName": "Jesús Vázquez",
      "photoUrl": "https://lh3.googleusercontent.com/a-/AOh14Ggun6IgIEhfrtKERZUGhdLyuRUPhxfBHWVsEmmNuA=s64",
      "userId": "07385382147841583526"
     },
     "user_tz": 360
    },
    "id": "BRowai2rezit",
    "outputId": "f50d0e21-548d-4df6-e6f0-08a7c01910b8"
   },
   "outputs": [
    {
     "name": "stdout",
     "output_type": "stream",
     "text": [
      "Las dimensiones de los conjuntos son\n",
      "(25000, 200)\n",
      "(25000, 200)\n"
     ]
    }
   ],
   "source": [
    "X_train = ____(X_train, maxlen=words_per_review)\n",
    "X_test = ____(X_test, maxlen=words_per_review)\n",
    "print('Las dimensiones de los conjuntos son')\n",
    "print(X_train.shape)\n",
    "print(X_test.shape) "
   ]
  },
  {
   "cell_type": "code",
   "execution_count": 0,
   "metadata": {
    "colab": {},
    "colab_type": "code",
    "id": "QiXFNppyezjM"
   },
   "outputs": [],
   "source": [
    "from sklearn.model_selection import ____\n",
    "X_test, X_val, y_test, y_val = ____(\n",
    "    X_test, y_test, random_state=11, test_size=0.20)  "
   ]
  },
  {
   "cell_type": "code",
   "execution_count": 0,
   "metadata": {
    "colab": {
     "base_uri": "https://localhost:8080/",
     "height": 70
    },
    "colab_type": "code",
    "executionInfo": {
     "elapsed": 329,
     "status": "ok",
     "timestamp": 1584119145561,
     "user": {
      "displayName": "Jesús Vázquez",
      "photoUrl": "https://lh3.googleusercontent.com/a-/AOh14Ggun6IgIEhfrtKERZUGhdLyuRUPhxfBHWVsEmmNuA=s64",
      "userId": "07385382147841583526"
     },
     "user_tz": 360
    },
    "id": "WWranP78ezjR",
    "outputId": "5d6fe6f2-2d85-4e67-925a-0e4b56917c92"
   },
   "outputs": [
    {
     "name": "stdout",
     "output_type": "stream",
     "text": [
      "Las dimensiones de los conjuntos (prueba y validacion) son\n",
      "(20000, 200)\n",
      "(5000, 200)\n"
     ]
    }
   ],
   "source": [
    "print('Las dimensiones de los conjuntos (prueba y validacion) son')\n",
    "print(X_test.shape)\n",
    "print(X_val.shape) "
   ]
  },
  {
   "cell_type": "markdown",
   "metadata": {
    "colab_type": "text",
    "id": "yUpI-UPJ7ZVM"
   },
   "source": [
    "# Reto 7"
   ]
  },
  {
   "cell_type": "code",
   "execution_count": 0,
   "metadata": {
    "colab": {},
    "colab_type": "code",
    "id": "JgZbuBaoezjZ"
   },
   "outputs": [],
   "source": [
    "from tensorflow.keras.models import ____\n",
    "from tensorflow.keras.layers import ____, ____\n",
    "from tensorflow.keras.layers import ____"
   ]
  },
  {
   "cell_type": "code",
   "execution_count": 0,
   "metadata": {
    "colab": {},
    "colab_type": "code",
    "id": "Bbf22jJR7glB"
   },
   "outputs": [],
   "source": [
    "rnn = Sequential()"
   ]
  },
  {
   "cell_type": "code",
   "execution_count": 0,
   "metadata": {
    "colab": {},
    "colab_type": "code",
    "id": "_ARHutVzezkC"
   },
   "outputs": [],
   "source": [
    "rnn.____(Embedding(input_dim=number_of_words, output_dim=128,\n",
    "                  input_length=words_per_review))\n",
    "rnn.____(LSTM(units=128, dropout=0.2, recurrent_dropout=0.2))\n",
    "rnn.____(Dense(units=1, activation='sigmoid'))"
   ]
  },
  {
   "cell_type": "code",
   "execution_count": 0,
   "metadata": {
    "colab": {},
    "colab_type": "code",
    "id": "DJYi93NDezkR"
   },
   "outputs": [],
   "source": [
    "rnn.compile(optimizer='adam',\n",
    "            loss='binary_crossentropy', \n",
    "            metrics=['accuracy'])"
   ]
  },
  {
   "cell_type": "code",
   "execution_count": 0,
   "metadata": {
    "colab": {},
    "colab_type": "code",
    "id": "uMvhkzEFezkY"
   },
   "outputs": [],
   "source": [
    "rnn.summary()"
   ]
  },
  {
   "cell_type": "code",
   "execution_count": 0,
   "metadata": {
    "colab": {
     "base_uri": "https://localhost:8080/",
     "height": 248
    },
    "colab_type": "code",
    "executionInfo": {
     "elapsed": 2167863,
     "status": "ok",
     "timestamp": 1584122783303,
     "user": {
      "displayName": "Jesús Vázquez",
      "photoUrl": "https://lh3.googleusercontent.com/a-/AOh14Ggun6IgIEhfrtKERZUGhdLyuRUPhxfBHWVsEmmNuA=s64",
      "userId": "07385382147841583526"
     },
     "user_tz": 360
    },
    "id": "16RiGsRGezke",
    "outputId": "c269def7-56a2-46e5-99ac-ac6c57031803"
   },
   "outputs": [
    {
     "name": "stdout",
     "output_type": "stream",
     "text": [
      "Train on 25000 samples, validate on 5000 samples\n",
      "Epoch 1/5\n",
      "25000/25000 [==============================] - 421s 17ms/sample - loss: 0.5064 - acc: 0.7538 - val_loss: 0.4401 - val_acc: 0.8016\n",
      "Epoch 2/5\n",
      "25000/25000 [==============================] - 422s 17ms/sample - loss: 0.4016 - acc: 0.8198 - val_loss: 0.3500 - val_acc: 0.8542\n",
      "Epoch 3/5\n",
      "25000/25000 [==============================] - 473s 19ms/sample - loss: 0.2814 - acc: 0.8870 - val_loss: 0.3266 - val_acc: 0.8614\n",
      "Epoch 4/5\n",
      "25000/25000 [==============================] - 424s 17ms/sample - loss: 0.2290 - acc: 0.9099 - val_loss: 0.3296 - val_acc: 0.8712\n",
      "Epoch 5/5\n",
      "25000/25000 [==============================] - 421s 17ms/sample - loss: 0.1910 - acc: 0.9272 - val_loss: 0.3569 - val_acc: 0.8686\n"
     ]
    },
    {
     "data": {
      "text/plain": [
       "<tensorflow.python.keras.callbacks.History at 0x7f6f994a8860>"
      ]
     },
     "execution_count": 22,
     "metadata": {
      "tags": []
     },
     "output_type": "execute_result"
    }
   ],
   "source": [
    "rnn.____(X_train, y_train, epochs=5, batch_size=32, validation_data=(X_val, y_val))"
   ]
  },
  {
   "cell_type": "code",
   "execution_count": 0,
   "metadata": {
    "colab": {
     "base_uri": "https://localhost:8080/",
     "height": 35
    },
    "colab_type": "code",
    "executionInfo": {
     "elapsed": 2242636,
     "status": "ok",
     "timestamp": 1584122858631,
     "user": {
      "displayName": "Jesús Vázquez",
      "photoUrl": "https://lh3.googleusercontent.com/a-/AOh14Ggun6IgIEhfrtKERZUGhdLyuRUPhxfBHWVsEmmNuA=s64",
      "userId": "07385382147841583526"
     },
     "user_tz": 360
    },
    "id": "X71um0leezkk",
    "outputId": "19b84fc2-155d-46d8-8ecb-1b404eb7a82e"
   },
   "outputs": [
    {
     "name": "stdout",
     "output_type": "stream",
     "text": [
      "20000/20000 [==============================] - 75s 4ms/sample - loss: 0.3665 - acc: 0.8679\n"
     ]
    }
   ],
   "source": [
    "results = rnn.____(X_test, y_test)"
   ]
  },
  {
   "cell_type": "code",
   "execution_count": 0,
   "metadata": {
    "colab": {
     "base_uri": "https://localhost:8080/",
     "height": 35
    },
    "colab_type": "code",
    "executionInfo": {
     "elapsed": 2242243,
     "status": "ok",
     "timestamp": 1584122858806,
     "user": {
      "displayName": "Jesús Vázquez",
      "photoUrl": "https://lh3.googleusercontent.com/a-/AOh14Ggun6IgIEhfrtKERZUGhdLyuRUPhxfBHWVsEmmNuA=s64",
      "userId": "07385382147841583526"
     },
     "user_tz": 360
    },
    "id": "piNedpFcezko",
    "outputId": "6ce95547-f556-4c6c-8017-c6b296e38cc4"
   },
   "outputs": [
    {
     "data": {
      "text/plain": [
       "[0.3664927057027817, 0.8679]"
      ]
     },
     "execution_count": 24,
     "metadata": {
      "tags": []
     },
     "output_type": "execute_result"
    }
   ],
   "source": [
    "results"
   ]
  }
 ],
 "metadata": {
  "accelerator": "GPU",
  "colab": {
   "name": "Retos_clase6_RNN.ipynb",
   "provenance": []
  },
  "kernelspec": {
   "display_name": "Python 3",
   "language": "python",
   "name": "python3"
  },
  "language_info": {
   "codemirror_mode": {
    "name": "ipython",
    "version": 3
   },
   "file_extension": ".py",
   "mimetype": "text/x-python",
   "name": "python",
   "nbconvert_exporter": "python",
   "pygments_lexer": "ipython3",
   "version": "3.6.10"
  }
 },
 "nbformat": 4,
 "nbformat_minor": 1
}
